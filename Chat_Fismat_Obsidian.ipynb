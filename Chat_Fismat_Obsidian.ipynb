{
  "cells": [
    {
      "cell_type": "markdown",
      "metadata": {
        "id": "view-in-github",
        "colab_type": "text"
      },
      "source": [
        "<a href=\"https://colab.research.google.com/github/TheAcoff/chat-Fismat/blob/main/Chat_Fismat_Obsidian.ipynb\" target=\"_parent\"><img src=\"https://colab.research.google.com/assets/colab-badge.svg\" alt=\"Open In Colab\"/></a>"
      ]
    },
    {
      "cell_type": "markdown",
      "metadata": {
        "id": "_UtdM3dzqbOX"
      },
      "source": [
        "# Ferramenta de Auxílio em Estudos\n",
        "\n",
        "Para este código, iremos utilizar dois modelos diferentes. Um para a detecção de intenção do usuário, tendo como saída variáveis precisas que irão entrar em uma lista para serem input de um segundo modelo que terá os dados treinados para a Física Matemática.\n",
        "\n",
        "Para o modelo1, temos a saída:\n",
        "$$\n",
        "output1 = \\begin{pmatrix} intenção \\\\ tema \\\\ ordem \\end{pmatrix}  = input2\n",
        "$$\n",
        "\n",
        "\n"
      ]
    },
    {
      "cell_type": "code",
      "execution_count": 1,
      "metadata": {
        "id": "vseJp7Zxhjak",
        "colab": {
          "base_uri": "https://localhost:8080/"
        },
        "outputId": "19b551e7-f109-4bca-c6d2-f844538b83b4"
      },
      "outputs": [
        {
          "output_type": "stream",
          "name": "stdout",
          "text": [
            "Requirement already satisfied: PyPDF2 in /usr/local/lib/python3.10/dist-packages (3.0.1)\n",
            "Drive already mounted at /content/drive; to attempt to forcibly remount, call drive.mount(\"/content/drive\", force_remount=True).\n"
          ]
        }
      ],
      "source": [
        "!pip install PyPDF2\n",
        "\n",
        "import google.generativeai as genai\n",
        "import hashlib\n",
        "import os\n",
        "from google.colab import drive,userdata\n",
        "from pathlib import Path\n",
        "from typing import List\n",
        "from PyPDF2 import PdfReader\n",
        "\n",
        "#Exportando arquivos do Google Drive\n",
        "drive.mount('/content/drive')\n",
        "pasta_origem = Path('/content/drive/MyDrive/NotasObsidian')\n",
        "pasta_nova = Path('/content/drive/MyDrive/NotasObsidian/Novas')\n",
        "\n",
        "#Configuração de API\n",
        "APIKey = userdata.get('GOOGLE_API_KEY')\n",
        "genai.configure(api_key=APIKey)"
      ]
    },
    {
      "cell_type": "markdown",
      "source": [],
      "metadata": {
        "id": "8f1FbU5YZub0"
      }
    },
    {
      "cell_type": "markdown",
      "source": [
        "## Funções principais\n",
        "Nessa parte, deixo todas as funções que estão sendo utilizadas para a manipulação de dados. Começando com uma função para converter a saída de texto do Gemini por uma matriz."
      ],
      "metadata": {
        "id": "tlbCTwFYz6ly"
      }
    },
    {
      "cell_type": "code",
      "execution_count": 2,
      "metadata": {
        "id": "UXvSFAEj0Jof"
      },
      "outputs": [],
      "source": [
        "def string_para_lista(texto):\n",
        "  # Remove as chaves e divide a string em elementos usando a vírgula como separador\n",
        "  elementos = texto.strip(\"[]\").split(\",\")\n",
        "\n",
        "  elementos = [elemento for elemento in elementos]\n",
        "\n",
        "  return elementos"
      ]
    },
    {
      "cell_type": "markdown",
      "source": [
        "Funções destinadas a extrair os textos dos arquivos:"
      ],
      "metadata": {
        "id": "ZTqEnkFQPsyV"
      }
    },
    {
      "cell_type": "code",
      "source": [
        "def extract_pdf_pages(pathname: str) -> List[str]:\n",
        "  parts = [f\"--- Começo do arquivo {pathname} ---\"]\n",
        "  reader = PdfReader(pathname)\n",
        "  pages = []\n",
        "\n",
        "  for page in reader.pages:\n",
        "    text = page.extract_text()\n",
        "    pages.append(text)\n",
        "\n",
        "  for index, page in enumerate(pages):\n",
        "    parts.append(f\"--- PAGE {index} ---\")\n",
        "    parts.append(page)\n",
        "\n",
        "  return parts"
      ],
      "metadata": {
        "id": "hMpItPeu4zeG"
      },
      "execution_count": 3,
      "outputs": []
    },
    {
      "cell_type": "code",
      "source": [
        "def extract_md(pathname: str) -> list[str]:\n",
        "  with open(f'{pathname}', 'r') as f:\n",
        "      conteudo = f.read()\n",
        "  return conteudo"
      ],
      "metadata": {
        "id": "vQqPLIu6JXb7"
      },
      "execution_count": 4,
      "outputs": []
    },
    {
      "cell_type": "markdown",
      "source": [
        "Função destinada a importar todos os arquivos do Google Drive da sua pasta para o histórico de conversa do Gemini."
      ],
      "metadata": {
        "id": "RGvtywp7ajk3"
      }
    },
    {
      "cell_type": "code",
      "source": [
        "arquivos = []\n",
        "\n",
        "# Looping pelos arquivos na pasta\n",
        "for filename in os.listdir(pasta_origem):\n",
        "    # Verifique se o arquivo é um .md\n",
        "    if filename.endswith(\".md\"):\n",
        "        # Crie o caminho completo para o arquivo\n",
        "        filepath = os.path.join(pasta_origem, filename)\n",
        "\n",
        "        # Adicione um dicionário à lista com as informações do arquivo\n",
        "        arquivos.append({\n",
        "            \"role\": \"user\",\n",
        "            \"parts\": extract_md(filepath)\n",
        "        })\n",
        "    if filename.endswith(\".pdf\"):\n",
        "        # Crie o caminho completo para o arquivo\n",
        "        filepath = os.path.join(pasta_origem, filename)\n",
        "\n",
        "        # Adicione um dicionário à lista com as informações do arquivo\n",
        "        arquivos.append({\n",
        "            \"role\": \"user\",\n",
        "            \"parts\": extract_pdf_pages(filepath)\n",
        "        })\n"
      ],
      "metadata": {
        "id": "tFOFq5WyajYq"
      },
      "execution_count": 5,
      "outputs": []
    },
    {
      "cell_type": "markdown",
      "source": [
        "Em alguns casos, as análises podem retornar nehuma intenção do usuário em uma ordem específica, para isso, limpamos a entrada para a sintaxe ser apenas um espaço no prompt:"
      ],
      "metadata": {
        "id": "IBY-Y-MQQEMv"
      }
    },
    {
      "cell_type": "code",
      "source": [
        "def variavel_vazia(variavel, entrada):\n",
        "  if variavel[entrada] == 'Nenhuma':\n",
        "    saida = ' '\n",
        "  else:\n",
        "    saida = variavel[entrada]\n",
        "  return saida"
      ],
      "metadata": {
        "id": "LW1wwGnpLn6O"
      },
      "execution_count": 6,
      "outputs": []
    },
    {
      "cell_type": "markdown",
      "source": [
        "Essa parte do texto faz uma análise do usuário, gerando um feedback positivo, negativo ou de saída. O usuário pode querer resumir mais o texto, detalhar ou até mesmo gerar detalhes mais específicos:"
      ],
      "metadata": {
        "id": "KynjQQ1GQOYL"
      }
    },
    {
      "cell_type": "code",
      "source": [
        "def analise_usuario(prompt):\n",
        "  #Modeo vai analisar a explicação do usuário e gerar novas variáveis\n",
        "  output2 = chat2.send_message(prompt)\n",
        "  output2M = string_para_lista(output2.text)\n",
        "\n",
        "  feedback = output2M[0]\n",
        "  ordem = variavel_vazia(output2M,1)\n",
        "  detalhe = variavel_vazia(output2M,2)\n",
        "\n",
        "  return feedback, ordem, detalhe\n"
      ],
      "metadata": {
        "id": "-pMcRK7SIK0t"
      },
      "execution_count": 7,
      "outputs": []
    },
    {
      "cell_type": "markdown",
      "source": [
        "## Geração de Arquivos"
      ],
      "metadata": {
        "id": "wCU5zSHQ3K-L"
      }
    },
    {
      "cell_type": "code",
      "source": [
        "def criar_markdown(conteudo, pasta, nome_arquivo=\"documento.md\"):\n",
        "  # Verificar se o nome do arquivo termina com \".md\"\n",
        "  if not nome_arquivo.endswith(\".md\"):\n",
        "    nome_arquivo += \".md\"\n",
        "\n",
        "  # Criar a pasta se ela não existir\n",
        "  os.makedirs(pasta, exist_ok=True)\n",
        "\n",
        "  # Caminho completo para o arquivo\n",
        "  caminho_arquivo = os.path.join(pasta, nome_arquivo)\n",
        "\n",
        "  with open(caminho_arquivo, \"w\", encoding=\"utf-8\") as f:\n",
        "    f.write(conteudo)\n",
        "\n",
        "  print(f\"Arquivo '{caminho_arquivo}' criado com sucesso!\")"
      ],
      "metadata": {
        "id": "Nq0rLNVw3OQW"
      },
      "execution_count": 8,
      "outputs": []
    },
    {
      "cell_type": "markdown",
      "source": [
        "### Geração de Texto"
      ],
      "metadata": {
        "id": "k1GIDujVP5VB"
      }
    },
    {
      "cell_type": "markdown",
      "source": [
        "Para formatar a saída, facilitando a leitura do usuário, podemos:"
      ],
      "metadata": {
        "id": "L4Brmv5PlJ2z"
      }
    },
    {
      "cell_type": "code",
      "source": [
        "import textwrap\n",
        "from IPython.display import display\n",
        "from IPython.display import Markdown\n",
        "\n",
        "def to_markdown(text):\n",
        "  text = text.replace('•', '  *')\n",
        "  return Markdown(textwrap.indent(text, '> ', predicate=lambda _: True))\n",
        "\n",
        "def imprimir_mensagem(output):\n",
        "  display(to_markdown(f'{output.text}'))\n",
        "  print('-------------------------------------------')"
      ],
      "metadata": {
        "id": "tez7VFXTlJdT"
      },
      "execution_count": 9,
      "outputs": []
    },
    {
      "cell_type": "markdown",
      "source": [
        "Separei dois prompts diferentes, um para criar texto novo, outro para editar um arquivo já existente."
      ],
      "metadata": {
        "id": "XFwf9oS-mOm6"
      }
    },
    {
      "cell_type": "code",
      "source": [
        "def geracao_texto_novo(detalhe, tema, ordem):\n",
        "  #Modelo vai gerar uma explicação para o usuário\n",
        "  output1 = chat1.send_message(f'Baseado nos textos .md e no livro, explique {ordem} {detalhe} sobre {tema}, mantendo o formato dos arquivos .md')\n",
        "\n",
        "  imprimir_mensagem(output1)\n",
        "\n",
        "  return output1.text"
      ],
      "metadata": {
        "id": "000lDYMOE4nq"
      },
      "execution_count": 10,
      "outputs": []
    },
    {
      "cell_type": "code",
      "source": [
        "def geracao_texto_edit(detalhe, tema, ordem,arquivo):\n",
        "    output1 = chat1.send_message(f'Sugira modificações para o {arquivo}.md sobre {tema}. \\n Durante o texto, faça os links dos termos mais importantes com [[]] como é feito nos arquivos enviados.  Escreva um arquivo em .md. Coloque equações em usando $. Explique {ordem} {detalhe}')\n",
        "\n",
        "    imprimir_mensagem(output1)\n",
        "\n",
        "    return output1.text"
      ],
      "metadata": {
        "id": "XJ0EkUPtK-Ly"
      },
      "execution_count": 11,
      "outputs": []
    },
    {
      "cell_type": "markdown",
      "metadata": {
        "id": "fS-tMIh82PJL"
      },
      "source": [
        "# Definição de Parâmetros\n",
        "Nessa parte, definimos os parâmetros dos dois modelos. Seja $n$ o número do modelo, podendo ser $0$ ou $1$ para os parâmetros, então, definimos previamente: generation_config$\\,n$ , safety_settings$\\,n$"
      ]
    },
    {
      "cell_type": "markdown",
      "metadata": {
        "id": "uXPXScvHBsm1"
      },
      "source": [
        "## Parâmetros do Modelo 0 e 2"
      ]
    },
    {
      "cell_type": "code",
      "execution_count": 12,
      "metadata": {
        "id": "pEDQ2sqGBuIr"
      },
      "outputs": [],
      "source": [
        "generation_config0 = {\n",
        "  \"temperature\": 0.3,\n",
        "  \"top_p\": 0,\n",
        "  \"top_k\": 0,\n",
        "  \"max_output_tokens\": 4096\n",
        "}\n",
        "\n",
        "safety_settings0 = {\n",
        "    'HARASSMENT':'BLOCK_MEDIUM_AND_ABOVE',\n",
        "    'HATE':'BLOCK_MEDIUM_AND_ABOVE',\n",
        "    'SEXUAL':'BLOCK_MEDIUM_AND_ABOVE',\n",
        "    'DANGEROUS':'BLOCK_MEDIUM_AND_ABOVE',\n",
        "}"
      ]
    },
    {
      "cell_type": "markdown",
      "metadata": {
        "id": "sxj0tT7sBqaH"
      },
      "source": [
        "## Parâmetros do Modelo 1"
      ]
    },
    {
      "cell_type": "code",
      "execution_count": 13,
      "metadata": {
        "id": "yGQqZHFOy45P"
      },
      "outputs": [],
      "source": [
        "generation_config1 = {\n",
        "  \"temperature\": 1,\n",
        "  \"top_p\": 0.95,\n",
        "  \"top_k\": 0,\n",
        "  \"max_output_tokens\": 12000\n",
        "}\n",
        "\n",
        "system_instruction1 = \"Aja como um auxiliar para anotações no obsidian. Desconsidere o título, faça os headings com '#' e os subheadings com '##'\"\n",
        "\n",
        "safety_settings1 = {\n",
        "    'HARASSMENT':'BLOCK_NONE',\n",
        "    'HATE':'BLOCK_NONE',\n",
        "    'SEXUAL':'BLOCK_NONE',\n",
        "    'DANGEROUS':'BLOCK_NONE',\n",
        "}"
      ]
    },
    {
      "cell_type": "markdown",
      "metadata": {
        "id": "0wqbyXI2Nh3O"
      },
      "source": [
        "# Incializando os Modelos"
      ]
    },
    {
      "cell_type": "code",
      "execution_count": 14,
      "metadata": {
        "id": "SWaWusQYNktO"
      },
      "outputs": [],
      "source": [
        "# Modelo para primeira avaliação do input do usuário\n",
        "model0 = genai.GenerativeModel(\n",
        "    model_name='gemini-1.0-pro',\n",
        "    generation_config = generation_config0,\n",
        "    safety_settings = safety_settings0,\n",
        "    )\n",
        "\n",
        "#Modelo principal de geração de textos\n",
        "model1 = genai.GenerativeModel(\n",
        "    model_name='gemini-1.5-pro-latest',\n",
        "    generation_config = generation_config1,\n",
        "    safety_settings = safety_settings1,\n",
        "    system_instruction = system_instruction1,\n",
        "    )\n",
        "\n",
        "#Modelo para validar a opinião do usuário com base no resultado do 'model1'\n",
        "model2 = genai.GenerativeModel(\n",
        "    model_name='gemini-1.0-pro',\n",
        "    generation_config = generation_config0,\n",
        "    safety_settings = safety_settings0,\n",
        "    )"
      ]
    },
    {
      "cell_type": "code",
      "source": [
        "chat0 = model0.start_chat(history=[\n",
        "  {\n",
        "    \"role\": \"user\",\n",
        "    \"parts\": [\"Aja como um identificador de intenção e ordem do usuário e me ajude a detectar o tema proposto. \\nDevemos ter dois resultados possíveis de Intenção desejadas pelo usuário: Dúvida e Edição. \\nJá para ordem: Nenhuma, Resuma, Detalhe, Crie.\\nPara isso, responda no seguinte formato, como se fosse declarar uma matriz em Python, sem utilizar os espaços: [Intenção,Ordem,Tema] \\n---\\nExemplo1: Gostaria de saber mais sobre Inteligência Artificial \\n[Dúvida,Detalhe,Inteligência Artificial]\\nExemplo2: Me ajude com minhas notas sobre Redes Neurais \\n[Edição,Complemente,Redes Neurais] \\nExemplo3: Crie uma nota sobre Produto Interno\\n[Geração,Crie,Produto Interno]\\nExemplo4: Me explique sobre Espaço Vetorial. \\n[Dúvida,Nenhma,Espaço Vetorial] \\nExemplo 5: Fale mais sobre Jupiter e suas luas \\n[Dúvida,Detalhe,Luas de Júpiter] \\nExemplo 6: Resume sobre crateras da Terra \\n[Dúvida,Resuma,Crateras da Terra] \\nExemplo7: Resuma minhas notas sobre Teclado \\n[Edição,Resuma,Teclado]\"]\n",
        "  },\n",
        "  {\n",
        "    \"role\": \"model\",\n",
        "    \"parts\": [\"Ok, irei analisar as frases e fazer no modelo [Intenção,Ordem,Tema]\"]\n",
        "  }\n",
        "])\n",
        "\n",
        "chat1 = model1.start_chat(history = arquivos)\n",
        "\n",
        "chat2 = model2.start_chat(history=[\n",
        "  {\n",
        "    \"role\": \"user\",\n",
        "    \"parts\": [\"Aja como um identificador de aprovação do usuário. Me ajude a detectar a categoria, a ordem e o detalhe da frase do usuário. \\n\\nDevemos ter três tipos de categoria: aprovado, desaprovado e sair.\\n\\nDevemos ter três tipos de ordem: resuma, detalhe, nenhuma\\n\\nPara o detalhe, analise qual parte o usuário deseja uma explicação, caso categoria for desaprovado. Se for diferente de desaprovado, a resposta será nenhuma.\\n\\nO formato de saída deve ser como uma lista em Python: [categoria,ordem,detalhe]\\n\\n---\\nExemplo1:  Não estou satisfeito com a resposta.\\n[Desaprovado,Nenhuma,Nenhuma]\\n\\nExemplo2: Não gostei, resuma mais um pouco.\\n[Desaprovado,Resuma,Nenhum]\\n\\nExemplo3: Resuma mais a parte do terceiro parágrafo do assunto\\n[Desaprovou, Resuma, terceiro parágrafo do assunto]\\n\\nExemplo4: Obrigado, estou satisfeito\\n[Aprovado,Nenhuma,Nenhuma]\\n\\nExemplo5: Detalhe mais sobre o capitalismo\\n[Desaprovado,Detalhe,capitalismo]\\n\\nExemplo6: Não precisa gerar mais\\n[Sair,Nenhuma,Nenhuma]\\n\\nExemplo7: Tudo bem, eu pergunto outra coisa\\n[Sair,Nenhuma,Nenhuma]\\n\\nExemplo8: Explique melhor as equações\\n[Desaprovado,Detalhe,equações]\"]\n",
        "  },\n",
        "  {\n",
        "    \"role\": \"model\",\n",
        "    \"parts\": [\"[Desaprovado, Nenhuma, Nenhuma]\\n[Desaprovado, Resuma, Nenhuma]\\n[Desaprovado, Resuma, terceiro parágrafo do assunto]\\n[Aprovado, Nenhuma, Nenhuma]\\n[Desaprovado, Detalhe, capitalismo]\\n[Sair, Nenhuma, Nenhuma]\\n[Sair, Nenhuma, Nenhuma]\\n[Desaprovado, Detalhe, equações]\"]\n",
        "  },\n",
        "  {\n",
        "    \"role\": \"user\",\n",
        "    \"parts\": [\"Obrigado, não quero mais informações\"]\n",
        "  },\n",
        "  {\n",
        "    \"role\": \"model\",\n",
        "    \"parts\": [\"[Sair, Nenhuma, Nenhuma]\"]\n",
        "  },\n",
        "])"
      ],
      "metadata": {
        "id": "9qK1NQx4zqlN"
      },
      "execution_count": 15,
      "outputs": []
    },
    {
      "cell_type": "markdown",
      "source": [
        "# Código em Ação"
      ],
      "metadata": {
        "id": "ybtieJajz3Zg"
      }
    },
    {
      "cell_type": "markdown",
      "source": [
        "O código irá pegar uma primeira entrada do usuário para gerar um texto de explicação ou uma sugestão de edição nas notas. Caso o usuário aceite as alterações, ele irá jogar para uma nova pasta!"
      ],
      "metadata": {
        "id": "zHI3xX0Op65C"
      }
    },
    {
      "cell_type": "code",
      "execution_count": 16,
      "metadata": {
        "id": "jk0mZcXZUc1T",
        "colab": {
          "base_uri": "https://localhost:8080/",
          "height": 1000
        },
        "outputId": "9e4b3d25-b131-4b09-d496-07ce123f2fee"
      },
      "outputs": [
        {
          "name": "stdout",
          "output_type": "stream",
          "text": [
            "O que deseja saber mais? (digite: \"fim\" para encerrar): Faça uma nota sobre Grupo SO(3)\n"
          ]
        },
        {
          "output_type": "display_data",
          "data": {
            "text/plain": [
              "<IPython.core.display.Markdown object>"
            ],
            "text/markdown": "> # Grupo SO(3)\n> \n> O grupo SO(3) (Grupo Ortogonal Especial em 3 dimensões) é o grupo de todas as [[Matriz de Rotação|matrizes de rotação]] em 3 dimensões. As matrizes de rotação são matrizes ortogonais com determinante igual a +1.  Elas representam rotações em torno de um eixo que passa pela origem.\n> \n> ## Definição\n> \n> O grupo SO(3) é definido como:\n> \n> $$\n> SO(3) = \\{R \\in \\mathbb{R}^{3\\times3} | R^TR = I, \\det(R) = 1 \\}\n> $$\n> \n> Onde:\n> \n> * $R$ é uma matriz de rotação 3x3.\n> * $R^T$ é a transposta da matriz $R$.\n> * $I$ é a matriz identidade 3x3.\n> * $\\det(R)$ é o determinante da matriz $R$.\n> \n> ## Propriedades \n> \n> O grupo SO(3) tem as seguintes propriedades:\n> \n> * **Fechamento:** O produto de duas matrizes de rotação é uma matriz de rotação.\n> * **Associatividade:** A multiplicação de matrizes é associativa.\n> * **Elemento Neutro:** A matriz identidade $I$ é o elemento neutro do grupo.\n> * **Elemento Inverso:** Toda matriz de rotação $R$ possui uma inversa $R^{-1}$, que também é uma matriz de rotação.\n> \n> ## Representações\n> \n> Existem diferentes maneiras de representar o grupo SO(3). \n> \n> * **Matrizes 3x3:** Esta é a representação mais comum. Uma matriz de rotação 3x3 pode ser parametrizada por três ângulos, como os ângulos de Euler.\n> * **Quaternions:** Os quaternions são uma extensão dos números complexos que podem ser usados para representar rotações de forma mais compacta e eficiente.\n> * **Ângulos de Euler:** Os ângulos de Euler (α, β, γ)  são um conjunto de três ângulos que parametrizam uma rotação em três dimensões. \n> \n> ## Aplicações\n> \n> O grupo SO(3) tem várias aplicações em física, matemática e engenharia, incluindo:\n> \n> * **Mecânica Clássica:**  Descrevendo a orientação de corpos rígidos.\n> * **Robótica:**  Controlando a orientação de robôs.\n> * **Computação Gráfica:**  Realizando rotações de objetos em 3D.\n> * **Teoria Quântica:**  Representando o spin de partículas elementares.\n> \n> ## Conexão com outros grupos\n> \n> O grupo SO(3) está intimamente relacionado com o [[Grupo SU(2)|grupo SU(2)]], que é o grupo de todas as matrizes unitárias 2x2 com determinante igual a +1.  Existe um homomorfismo 2:1 de SU(2) em SO(3).\n> \n> ## Conclusão\n> \n> O grupo SO(3) é um grupo fundamental com aplicações importantes em diversas áreas. A compreensão de suas propriedades e representações é essencial para o estudo de rotações em três dimensões. \n"
          },
          "metadata": {}
        },
        {
          "name": "stdout",
          "output_type": "stream",
          "text": [
            "-------------------------------------------\n",
            "Gostou do texto gerado?: Sim, obrigado\n",
            "Arquivo '/content/drive/MyDrive/NotasObsidian/Novas/Grupo SO(3).md' criado com sucesso!\n",
            "O que deseja saber mais?: fim\n"
          ]
        }
      ],
      "source": [
        "#Declaração de Variáveis\n",
        "prompt = str(input('O que deseja saber mais? (digite: \"fim\" para encerrar): '))\n",
        "detalhe = str(' ')\n",
        "ordem = str(' ')\n",
        "\n",
        "while prompt != 'fim':\n",
        "  #Envia o prompt e converte a saída para uma matriz.\n",
        "  output0 = chat0.send_message(prompt)\n",
        "  output0M = string_para_lista(output0.text)\n",
        "\n",
        "  #Separa as variáveis da saída\n",
        "  intencao = output0M[0]\n",
        "  tema = output0M[2]\n",
        "  ordem = variavel_vazia(output0M,1)\n",
        "\n",
        "  #Verifica se a intenção é Dúvida ou Edição\n",
        "  feedback = str(' ')\n",
        "\n",
        "  if intencao == 'Dúvida':\n",
        "    #Rodamos o código enquanto o usuário não estiver satisfeito:\n",
        "    while (feedback != 'Aprovado' and feedback != 'Sair'):\n",
        "      #Geramos os textos para o usuário:\n",
        "      output1 = geracao_texto_novo(detalhe, tema, ordem)\n",
        "\n",
        "      #Coletando resposta\n",
        "      prompt = str(input('Gostou do texto gerado?: '))\n",
        "      feedback, ordem, detalhe = analise_usuario(prompt)\n",
        "\n",
        "\n",
        "\n",
        "  else:\n",
        "    #Rodamos o código enquanto o usuário não estiver satisfeito:\n",
        "    while (feedback != 'Aprovado' and feedback != 'Sair'):\n",
        "      #Geramos os textos para o usuário\n",
        "      output1 = geracao_texto_edit(detalhe,tema,ordem,tema)\n",
        "\n",
        "      #Coletando resposta\n",
        "      prompt = str(input('Gostou do texto gerado?: '))\n",
        "      feedback, ordem, detalhe = analise_usuario(prompt)\n",
        "\n",
        "      if (feedback == 'Aprovado'):\n",
        "        #Criar novo arquivo .md com as notas geradas (output1) e nome Tema\n",
        "        criar_markdown(output1,pasta_nova,tema)\n",
        "\n",
        "  prompt = str(input('O que deseja saber mais?: '))\n",
        "\n",
        "\n"
      ]
    }
  ],
  "metadata": {
    "colab": {
      "provenance": [],
      "authorship_tag": "ABX9TyPAVIbqdme44Bw9WZXbW+cS",
      "include_colab_link": true
    },
    "kernelspec": {
      "display_name": "Python 3",
      "name": "python3"
    },
    "language_info": {
      "name": "python"
    }
  },
  "nbformat": 4,
  "nbformat_minor": 0
}