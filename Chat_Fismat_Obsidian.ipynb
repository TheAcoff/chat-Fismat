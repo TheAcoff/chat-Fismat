{
  "cells": [
    {
      "cell_type": "markdown",
      "metadata": {
        "id": "view-in-github",
        "colab_type": "text"
      },
      "source": [
        "<a href=\"https://colab.research.google.com/github/TheAcoff/chat-Fismat/blob/main/Chat_Fismat_Obsidian.ipynb\" target=\"_parent\"><img src=\"https://colab.research.google.com/assets/colab-badge.svg\" alt=\"Open In Colab\"/></a>"
      ]
    },
    {
      "cell_type": "markdown",
      "metadata": {
        "id": "_UtdM3dzqbOX"
      },
      "source": [
        "# Ferramenta de Auxílio em Estudos\n",
        "\n",
        "Para este código, iremos utilizar dois modelos diferentes. Um para a detecção de intenção do usuário, tendo como saída variáveis precisas que irão entrar em uma lista para serem input de um segundo modelo que terá os dados treinados para a Física Matemática.\n",
        "\n",
        "Para o modelo1, temos a saída:\n",
        "$$\n",
        "output1 = \\begin{pmatrix} intenção \\\\ tema \\\\ ordem \\end{pmatrix}  = input2\n",
        "$$\n",
        "\n",
        "\n"
      ]
    },
    {
      "cell_type": "code",
      "execution_count": null,
      "metadata": {
        "id": "vseJp7Zxhjak",
        "colab": {
          "base_uri": "https://localhost:8080/"
        },
        "outputId": "fef0ce03-00f7-4f83-d99c-704fc6abd3b1"
      },
      "outputs": [
        {
          "output_type": "stream",
          "name": "stdout",
          "text": [
            "Drive already mounted at /content/drive; to attempt to forcibly remount, call drive.mount(\"/content/drive\", force_remount=True).\n"
          ]
        }
      ],
      "source": [
        "import google.generativeai as genai\n",
        "import hashlib\n",
        "import os\n",
        "from google.colab import drive,userdata\n",
        "from pathlib import Path\n",
        "\n",
        "#Exportando arquivos do Google Drive\n",
        "drive.mount('/content/drive')\n",
        "pasta_origem = Path('/content/drive/My Drive/IATeste')\n",
        "\n",
        "#Configuração de API\n",
        "APIKey = userdata.get('GOOGLE_API_KEY')\n",
        "genai.configure(api_key=APIKey)"
      ]
    },
    {
      "cell_type": "markdown",
      "source": [],
      "metadata": {
        "id": "8f1FbU5YZub0"
      }
    },
    {
      "cell_type": "markdown",
      "source": [
        "## Funções principais\n",
        "Nessa parte, deixo todas as funções que estão sendo utilizadas para a manipulação de dados. Começando com uma função para converter a saída de texto do Gemini por uma matriz."
      ],
      "metadata": {
        "id": "tlbCTwFYz6ly"
      }
    },
    {
      "cell_type": "code",
      "execution_count": null,
      "metadata": {
        "id": "UXvSFAEj0Jof"
      },
      "outputs": [],
      "source": [
        "def string_para_lista(texto):\n",
        "  # Remove as chaves e divide a string em elementos usando a vírgula como separador\n",
        "  elementos = texto.strip(\"[]\").split(\",\")\n",
        "\n",
        "  elementos = [elemento for elemento in elementos]\n",
        "\n",
        "  return elementos\n"
      ]
    },
    {
      "cell_type": "markdown",
      "source": [
        "Função destinada a extrair os textos dos arquivos:"
      ],
      "metadata": {
        "id": "ZTqEnkFQPsyV"
      }
    },
    {
      "cell_type": "code",
      "source": [
        "def extract_pdf_pages(pathname: str) -> list[str]:\n",
        "  parts = [f\"--- START OF PDF ${pathname} ---\"]\n",
        "  # Add logic to read the PDF and return a list of pages here.\n",
        "  pages = []\n",
        "  for index, page in enumerate(pages):\n",
        "    parts.append(f\"--- PAGE {index} ---\")\n",
        "    parts.append(page)\n",
        "  return parts"
      ],
      "metadata": {
        "id": "hMpItPeu4zeG"
      },
      "execution_count": null,
      "outputs": []
    },
    {
      "cell_type": "markdown",
      "source": [
        "Função destinada a importar todos os arquivos do Google Drive da sua pasta para o history do Gemini"
      ],
      "metadata": {
        "id": "RGvtywp7ajk3"
      }
    },
    {
      "cell_type": "code",
      "source": [
        "arquivos = []\n",
        "\n",
        "# Looping pelos arquivos na pasta\n",
        "for filename in os.listdir(pasta_origem):\n",
        "    # Verifique se o arquivo é um .md\n",
        "    if filename.endswith(\".md\"):\n",
        "        # Crie o caminho completo para o arquivo\n",
        "        filepath = os.path.join(pasta_origem, filename)\n",
        "\n",
        "        # Adicione um dicionário à lista com as informações do arquivo\n",
        "        arquivos.append({\n",
        "            \"role\": \"user\",\n",
        "            \"parts\": extract_pdf_pages(filepath)\n",
        "        })\n",
        "    if filename.endswith(\".pdf\"):\n",
        "        # Crie o caminho completo para o arquivo\n",
        "        filepath = os.path.join(pasta_origem, filename)\n",
        "\n",
        "        # Adicione um dicionário à lista com as informações do arquivo\n",
        "        arquivos.append({\n",
        "            \"role\": \"user\",\n",
        "            \"parts\": extract_pdf_pages(filepath)\n",
        "        })\n",
        "\n",
        "print(arquivos)\n"
      ],
      "metadata": {
        "colab": {
          "base_uri": "https://localhost:8080/"
        },
        "id": "tFOFq5WyajYq",
        "outputId": "06a74ba3-d0b2-4bc4-bbad-cf331374bd19"
      },
      "execution_count": null,
      "outputs": [
        {
          "output_type": "stream",
          "name": "stdout",
          "text": [
            "[{'role': 'user', 'parts': ['--- START OF PDF $/content/drive/My Drive/IATeste/Algebra Linear.md ---']}, {'role': 'user', 'parts': ['--- START OF PDF $/content/drive/My Drive/IATeste/Limites.md ---']}, {'role': 'user', 'parts': ['--- START OF PDF $/content/drive/My Drive/IATeste/Planos.md ---']}, {'role': 'user', 'parts': ['--- START OF PDF $/content/drive/My Drive/IATeste/Integral.md ---']}, {'role': 'user', 'parts': ['--- START OF PDF $/content/drive/My Drive/IATeste/Rotacional.md ---']}, {'role': 'user', 'parts': ['--- START OF PDF $/content/drive/My Drive/IATeste/Divergente.md ---']}, {'role': 'user', 'parts': ['--- START OF PDF $/content/drive/My Drive/IATeste/Funções Especiais.md ---']}, {'role': 'user', 'parts': ['--- START OF PDF $/content/drive/My Drive/IATeste/Transformada de Laplace.md ---']}, {'role': 'user', 'parts': ['--- START OF PDF $/content/drive/My Drive/IATeste/Coordenadas Cilíndricas.md ---']}, {'role': 'user', 'parts': ['--- START OF PDF $/content/drive/My Drive/IATeste/Cálculo_Análise.md ---']}, {'role': 'user', 'parts': ['--- START OF PDF $/content/drive/My Drive/IATeste/Equação Diferencial Ordinária.md ---']}, {'role': 'user', 'parts': ['--- START OF PDF $/content/drive/My Drive/IATeste/Tensor Métrico.md ---']}, {'role': 'user', 'parts': ['--- START OF PDF $/content/drive/My Drive/IATeste/Funções.md ---']}, {'role': 'user', 'parts': ['--- START OF PDF $/content/drive/My Drive/IATeste/Símbolo de Christoffel.md ---']}, {'role': 'user', 'parts': ['--- START OF PDF $/content/drive/My Drive/IATeste/Vetor.md ---']}, {'role': 'user', 'parts': ['--- START OF PDF $/content/drive/My Drive/IATeste/Tensor.md ---']}, {'role': 'user', 'parts': ['--- START OF PDF $/content/drive/My Drive/IATeste/Isomorfismo.md ---']}, {'role': 'user', 'parts': ['--- START OF PDF $/content/drive/My Drive/IATeste/Corpo.md ---']}, {'role': 'user', 'parts': ['--- START OF PDF $/content/drive/My Drive/IATeste/Espaço Vetorial.md ---']}, {'role': 'user', 'parts': ['--- START OF PDF $/content/drive/My Drive/IATeste/Subespaço Vetorial.md ---']}, {'role': 'user', 'parts': ['--- START OF PDF $/content/drive/My Drive/IATeste/Conceitos Matemáticos.md ---']}, {'role': 'user', 'parts': ['--- START OF PDF $/content/drive/My Drive/IATeste/Base e Dimensão.md ---']}, {'role': 'user', 'parts': ['--- START OF PDF $/content/drive/My Drive/IATeste/Topologia.md ---']}, {'role': 'user', 'parts': ['--- START OF PDF $/content/drive/My Drive/IATeste/Espaço Normado.md ---']}, {'role': 'user', 'parts': ['--- START OF PDF $/content/drive/My Drive/IATeste/Pontos.md ---']}, {'role': 'user', 'parts': ['--- START OF PDF $/content/drive/My Drive/IATeste/Geometria.md ---']}, {'role': 'user', 'parts': ['--- START OF PDF $/content/drive/My Drive/IATeste/Retas.md ---']}, {'role': 'user', 'parts': ['--- START OF PDF $/content/drive/My Drive/IATeste/Translação.md ---']}, {'role': 'user', 'parts': ['--- START OF PDF $/content/drive/My Drive/IATeste/Delta de Dirac.md ---']}, {'role': 'user', 'parts': ['--- START OF PDF $/content/drive/My Drive/IATeste/Espaço de Hilbert.md ---']}, {'role': 'user', 'parts': ['--- START OF PDF $/content/drive/My Drive/IATeste/Coordenadas Esféricas.md ---']}, {'role': 'user', 'parts': ['--- START OF PDF $/content/drive/My Drive/IATeste/Física Matemática.md ---']}, {'role': 'user', 'parts': ['--- START OF PDF $/content/drive/My Drive/IATeste/Função de Legendre.md ---']}, {'role': 'user', 'parts': ['--- START OF PDF $/content/drive/My Drive/IATeste/Teorema de Helmholtz.md ---']}, {'role': 'user', 'parts': ['--- START OF PDF $/content/drive/My Drive/IATeste/Vetores Complexos.md ---']}, {'role': 'user', 'parts': ['--- START OF PDF $/content/drive/My Drive/IATeste/Teorema da Divergência.md ---']}, {'role': 'user', 'parts': ['--- START OF PDF $/content/drive/My Drive/IATeste/Teorema de Stokes.md ---']}, {'role': 'user', 'parts': ['--- START OF PDF $/content/drive/My Drive/IATeste/Variedade diferenciável.md ---']}, {'role': 'user', 'parts': ['--- START OF PDF $/content/drive/My Drive/IATeste/Transformações Lineares.md ---']}, {'role': 'user', 'parts': ['--- START OF PDF $/content/drive/My Drive/IATeste/Produto Interno.md ---']}, {'role': 'user', 'parts': ['--- START OF PDF $/content/drive/My Drive/IATeste/Funcionais Lineares.md ---']}, {'role': 'user', 'parts': ['--- START OF PDF $/content/drive/My Drive/IATeste/Operador Unitário.md ---']}, {'role': 'user', 'parts': ['--- START OF PDF $/content/drive/My Drive/IATeste/Espaço de Produto Interno.md ---']}, {'role': 'user', 'parts': ['--- START OF PDF $/content/drive/My Drive/IATeste/Complemento Ortogonal.md ---']}, {'role': 'user', 'parts': ['--- START OF PDF $/content/drive/My Drive/IATeste/Formas.md ---']}, {'role': 'user', 'parts': ['--- START OF PDF $/content/drive/My Drive/IATeste/Espaço Métrico.md ---']}, {'role': 'user', 'parts': ['--- START OF PDF $/content/drive/My Drive/IATeste/Polinômios de Laguerre.md ---']}, {'role': 'user', 'parts': ['--- START OF PDF $/content/drive/My Drive/IATeste/Grupo.md ---']}, {'role': 'user', 'parts': ['--- START OF PDF $/content/drive/My Drive/IATeste/Derivada como aproximação.md ---']}, {'role': 'user', 'parts': ['--- START OF PDF $/content/drive/My Drive/IATeste/Produto Tensorial.md ---']}, {'role': 'user', 'parts': ['--- START OF PDF $/content/drive/My Drive/IATeste/Exponencial de Matrizes.md ---']}, {'role': 'user', 'parts': ['--- START OF PDF $/content/drive/My Drive/IATeste/Matrizes de Pauli.md ---']}, {'role': 'user', 'parts': ['--- START OF PDF $/content/drive/My Drive/IATeste/Traço.md ---']}, {'role': 'user', 'parts': ['--- START OF PDF $/content/drive/My Drive/IATeste/Coordenadas.md ---']}]\n"
          ]
        }
      ]
    },
    {
      "cell_type": "markdown",
      "source": [
        "### Geração de Texto\n",
        "Separei dois prompts diferentes, um para criar texto novo, outro para editar um arquivo já existente."
      ],
      "metadata": {
        "id": "k1GIDujVP5VB"
      }
    },
    {
      "cell_type": "code",
      "source": [
        "def geracao_texto_novo(detalhe, tema, ordem):\n",
        "  #Modelo vai gerar uma explicação para o usuário\n",
        "  output1 = chat1.send_message(f'Baseado nos textos .md e no livro, explique {ordem} {detalhe} sobre {tema}')\n",
        "  print(output1.text)\n",
        "  return output1.text"
      ],
      "metadata": {
        "id": "000lDYMOE4nq"
      },
      "execution_count": null,
      "outputs": []
    },
    {
      "cell_type": "code",
      "source": [
        "def geracao_texto_edit(detalhe, tema, ordem,arquivo):\n",
        "  #Modelo vai gerar uma explicação para o usuário\n",
        "    output1 = chat1.send_message(f'Sugira modificações para o {arquivo}.md sobre {tema}. \\n Faça os links dos termos mais importantes com [[]] como é feito nos arquivos enviados.  Escreva um arquivo em .md. Coloque equações em usando $. Explique {ordem} {detalhe}')\n",
        "    print(output1.text)\n",
        "    return output1.text"
      ],
      "metadata": {
        "id": "XJ0EkUPtK-Ly"
      },
      "execution_count": null,
      "outputs": []
    },
    {
      "cell_type": "markdown",
      "source": [
        "Em alguns casos, as análises podem retornar nehuma intenção do usuário em uma ordem específica, pra isso, limpamos a entrada para a sintaxe ser apenas um espaço no prompt:"
      ],
      "metadata": {
        "id": "IBY-Y-MQQEMv"
      }
    },
    {
      "cell_type": "code",
      "source": [
        "def variavel_vazia(variavel, entrada):\n",
        "  if variavel[entrada] == 'Nenhuma':\n",
        "    saida = ' '\n",
        "  else:\n",
        "    saida = variavel[entrada]\n",
        "  return saida"
      ],
      "metadata": {
        "id": "LW1wwGnpLn6O"
      },
      "execution_count": null,
      "outputs": []
    },
    {
      "cell_type": "markdown",
      "source": [
        "Essa parte do texto faz uma análise do usuário, gerando um feedback positivo, negativo ou de saída. O usuário pode querer resumir mais o texto, detalhar ou até mesmo gerar detalhes mais específicos."
      ],
      "metadata": {
        "id": "KynjQQ1GQOYL"
      }
    },
    {
      "cell_type": "code",
      "source": [
        "def analise_usuario(prompt):\n",
        "  #Modeo vai analisar a explicação do usuário e gerar novas variáveis\n",
        "  output2 = chat2.send_message(prompt)\n",
        "  output2M = string_para_lista(output2.text)\n",
        "\n",
        "  feedback = output2M[0]\n",
        "  ordem = variavel_vazia(output2M,1)\n",
        "  detalhe = variavel_vazia(output2M,2)\n",
        "\n",
        "  return feedback, ordem, detalhe\n"
      ],
      "metadata": {
        "id": "-pMcRK7SIK0t"
      },
      "execution_count": null,
      "outputs": []
    },
    {
      "cell_type": "markdown",
      "metadata": {
        "id": "fS-tMIh82PJL"
      },
      "source": [
        "# Definição de Parâmetros\n",
        "Nessa parte, definimos os parâmetros dos dois modelos. Seja $n$ o número do modelo, podendo ser $0$ ou $1$ para os parâmetros, então, definimos previamente: generation_config$\\,n$ , safety_settings$\\,n$"
      ]
    },
    {
      "cell_type": "markdown",
      "metadata": {
        "id": "uXPXScvHBsm1"
      },
      "source": [
        "## Parâmetros do Modelo 0 e 2"
      ]
    },
    {
      "cell_type": "code",
      "execution_count": null,
      "metadata": {
        "id": "pEDQ2sqGBuIr"
      },
      "outputs": [],
      "source": [
        "generation_config0 = {\n",
        "  \"temperature\": 0.4,\n",
        "  \"top_p\": 0,\n",
        "  \"top_k\": 0,\n",
        "  \"max_output_tokens\": 4096\n",
        "}\n",
        "\n",
        "safety_settings0 = {\n",
        "    'HARASSMENT':'BLOCK_MEDIUM_AND_ABOVE',\n",
        "    'HATE':'BLOCK_MEDIUM_AND_ABOVE',\n",
        "    'SEXUAL':'BLOCK_MEDIUM_AND_ABOVE',\n",
        "    'DANGEROUS':'BLOCK_MEDIUM_AND_ABOVE',\n",
        "}"
      ]
    },
    {
      "cell_type": "markdown",
      "metadata": {
        "id": "sxj0tT7sBqaH"
      },
      "source": [
        "## Parâmetros do Modelo 1"
      ]
    },
    {
      "cell_type": "code",
      "execution_count": null,
      "metadata": {
        "id": "yGQqZHFOy45P"
      },
      "outputs": [],
      "source": [
        "generation_config1 = {\n",
        "  \"temperature\": 1,\n",
        "  \"top_p\": 0.95,\n",
        "  \"top_k\": 0,\n",
        "  \"max_output_tokens\": 12000\n",
        "}\n",
        "\n",
        "system_instruction1 = \"Aja como um auxiliar para anotações no obsidian. Faça a resposta em um bloco de código.\"\n",
        "\n",
        "safety_settings1 = {\n",
        "    'HARASSMENT':'BLOCK_NONE',\n",
        "    'HATE':'BLOCK_NONE',\n",
        "    'SEXUAL':'BLOCK_NONE',\n",
        "    'DANGEROUS':'BLOCK_NONE',\n",
        "}"
      ]
    },
    {
      "cell_type": "markdown",
      "metadata": {
        "id": "0wqbyXI2Nh3O"
      },
      "source": [
        "# Incializando os Modelos"
      ]
    },
    {
      "cell_type": "code",
      "execution_count": null,
      "metadata": {
        "id": "SWaWusQYNktO"
      },
      "outputs": [],
      "source": [
        "# Modelo para primeira avaliação do input do usuário\n",
        "model0 = genai.GenerativeModel(\n",
        "    model_name='gemini-1.0-pro',\n",
        "    generation_config = generation_config0,\n",
        "    safety_settings = safety_settings0,\n",
        "    )\n",
        "\n",
        "#Modelo principal de geração de textos\n",
        "model1 = genai.GenerativeModel(\n",
        "    model_name='gemini-1.5-pro-latest',\n",
        "    generation_config = generation_config1,\n",
        "    safety_settings = safety_settings1,\n",
        "    system_instruction = system_instruction1,\n",
        "    )\n",
        "\n",
        "#Modelo para validar a opinião do usuário com base no resultado do 'model1'\n",
        "model2 = genai.GenerativeModel(\n",
        "    model_name='gemini-1.0-pro',\n",
        "    generation_config = generation_config0,\n",
        "    safety_settings = safety_settings0,\n",
        "    )"
      ]
    },
    {
      "cell_type": "code",
      "source": [
        "chat0 = model0.start_chat(history=[\n",
        "  {\n",
        "    \"role\": \"user\",\n",
        "    \"parts\": [\"Aja como um identificador de intenção e ordem e me ajude a detectar o tema. \\nDevemos ter dois resultados possíveis de Intenção desejadas pelo usuário: Dúvida e Edição. \\nJá para ordem: Nenhuma, Resuma, Detalhe, Crie.\\nPara isso, responda no seguinte formato, como se fosse declarar uma matriz em Python, sem utilizar os espaços: [Intenção,Ordem,Tema] \\n---\\nExemplo1: Gostaria de saber mais sobre Inteligência Artificial \\n[Dúvida,Detalhe,Inteligência Artificial]\\nExemplo2: Me ajude com minhas notas sobre Redes Neurais \\n[Edição,Complemente,Redes Neurais] \\nExemplo3: Crie uma nota sobre Produto Interno\\n[Geração,Crie,Produto Interno]\\nExemplo4: Me explique sobre Espaço Vetorial. \\n[Dúvida,Nenhma,Espaço Vetorial] \\nExemplo 5: Fale mais sobre Jupiter e suas luas \\n[Dúvida,Detalhe,Luas de Júpiter] \\nExemplo 6: Resume sobre crateras da Terra \\n[Dúvida,Resuma,Crateras da Terra] \\nExemplo7: Resuma minhas notas sobre Teclado \\n[Edição,Resuma,Teclado]\"]\n",
        "  },\n",
        "  {\n",
        "    \"role\": \"model\",\n",
        "    \"parts\": [\"Ok, irei analisar as frases e fazer no modelo [Intenção,Ordem,Tema]\"]\n",
        "  }\n",
        "])\n",
        "\n",
        "chat1 = model1.start_chat(history = arquivos)#Fazer treinamento\n",
        "\n",
        "chat2 = model2.start_chat(history=[\n",
        "  {\n",
        "    \"role\": \"user\",\n",
        "    \"parts\": [\"Aja como um identificador de aprovação do usuário. Me ajude a detectar a categoria, a ordem e o detalhe da frase do usuário. \\n\\nDevemos ter três tipos de categoria: aprovado, desaprovado e sair.\\n\\nDevemos ter três tipos de ordem: resuma, detalhe, nenhuma\\n\\nPara o detalhe, analise qual parte o usuário deseja uma explicação, caso categoria for desaprovado. Se for diferente de desaprovado, a resposta será nenhuma.\\n\\nO formato de saída deve ser como uma lista em Python: [categoria,ordem,detalhe]\\n\\n---\\nExemplo1:  Não estou satisfeito com a resposta.\\n[Desaprovado,Nenhuma,Nenhuma]\\n\\nExemplo2: Não gostei, resuma mais um pouco.\\n[Desaprovado,Resuma,Nenhum]\\n\\nExemplo3: Resuma mais a parte do terceiro parágrafo do assunto\\n[Desaprovou, Resuma, terceiro parágrafo do assunto]\\n\\nExemplo4: Obrigado, estou satisfeito\\n[Aprovado,Nenhuma,Nenhuma]\\n\\nExemplo5: Detalhe mais sobre o capitalismo\\n[Desaprovado,Detalhe,capitalismo]\\n\\nExemplo6: Não precisa gerar mais\\n[Sair,Nenhuma,Nenhuma]\\n\\nExemplo7: Tudo bem, eu pergunto outra coisa\\n[Sair,Nenhuma,Nenhuma]\\n\\nExemplo8: Explique melhor as equações\\n[Desaprovado,Detalhe,equações]\"]\n",
        "  },\n",
        "  {\n",
        "    \"role\": \"model\",\n",
        "    \"parts\": [\"[Desaprovado, Nenhuma, Nenhuma]\\n[Desaprovado, Resuma, Nenhuma]\\n[Desaprovado, Resuma, terceiro parágrafo do assunto]\\n[Aprovado, Nenhuma, Nenhuma]\\n[Desaprovado, Detalhe, capitalismo]\\n[Sair, Nenhuma, Nenhuma]\\n[Sair, Nenhuma, Nenhuma]\\n[Desaprovado, Detalhe, equações]\"]\n",
        "  },\n",
        "  {\n",
        "    \"role\": \"user\",\n",
        "    \"parts\": [\"Obrigado, não quero mais informações\"]\n",
        "  },\n",
        "  {\n",
        "    \"role\": \"model\",\n",
        "    \"parts\": [\"[Sair, Nenhuma, Nenhuma]\"]\n",
        "  },\n",
        "])"
      ],
      "metadata": {
        "id": "9qK1NQx4zqlN"
      },
      "execution_count": null,
      "outputs": []
    },
    {
      "cell_type": "markdown",
      "source": [
        "# Código em Ação"
      ],
      "metadata": {
        "id": "ybtieJajz3Zg"
      }
    },
    {
      "cell_type": "code",
      "execution_count": null,
      "metadata": {
        "id": "jk0mZcXZUc1T"
      },
      "outputs": [],
      "source": [
        "#Declaração de Variáveis\n",
        "prompt = str(input('Input: '))\n",
        "detalhe = str(' ')\n",
        "ordem = str(' ')\n",
        "\n",
        "while prompt != 'fim':\n",
        "  #Envia o prompt e converte a saída para uma matriz.\n",
        "  output0 = chat0.send_message(prompt)\n",
        "  output0M = string_para_lista(output0.text)\n",
        "\n",
        "  #Separa as variáveis da saída\n",
        "  intencao = output0M[0]\n",
        "  tema = output0M[2]\n",
        "  ordem = variavel_vazia(output0M,1)\n",
        "  # if output0M[1] == 'Nenhuma':\n",
        "  #   ordem = ' '\n",
        "  # else:\n",
        "  #   ordem = output0M[1]\n",
        "\n",
        "  print(output0M)\n",
        "\n",
        "  #Verifica se a intenção é Dúvida ou Edição\n",
        "  feedback = str(' ')\n",
        "  if intencao == 'Dúvida':\n",
        "    #Rodamos o código enquanto o usuário não estiver satisfeito:\n",
        "    while feedback != ('Sair' or 'Aprovado'):\n",
        "      #Geramos os textos para o usuário:\n",
        "      output1 = geracao_texto_novo(detalhe, tema, ordem)\n",
        "      print('finja que aqui tem uma resposta bonita da IA')\n",
        "\n",
        "      #Coletando resposta\n",
        "      prompt = str(input('Gostou do texto gerado?: '))\n",
        "      feedback, ordem, detalhe = analise_usuario(prompt)\n",
        "\n",
        "      print(output2M)\n",
        "\n",
        "  if intencao == 'Edição':\n",
        "    '''Buscar arquivo com Tema. Tem que ter var com nome do arquivo caso\n",
        "    encontrado e outra pra validação'''\n",
        "\n",
        "    if (ordem == 'Crie') or (validacao_arquivo == 'Nao encontrado'):\n",
        "      while feedback != ('Sair'):\n",
        "        #Geramos os textos para o usuário\n",
        "        output1 = geracao_texto(detalhe,ordem,tema)\n",
        "        #Coletando resposta\n",
        "        prompt = str(input('Gostou do texto gerado?: '))\n",
        "        feedback, ordem, detalhe = analise_usuario(prompt)\n",
        "        if feedback == 'Aprovado':\n",
        "          '''#Criar novo arquivo .md com as notas geradas (output1) e nome Tema'''\n",
        "          feedback = ' '\n",
        "          print('Criando aqruivo .md')\n",
        "\n",
        "    else: #(ordem == resuma ou detalhe) ou (arquivo for existente)\n",
        "      while feedback != ('Sair' or 'Aprovado'):\n",
        "        #Geramos os textos para o usuário\n",
        "        output1 = geracao_texto_edit(detalhe,ordem,tema,arquivo)\n",
        "        #Coletando resposta\n",
        "        prompt = str(input('Gostou do texto gerado?: '))\n",
        "        feedback, ordem, detalhe = analise_usuario(prompt)\n",
        "      if feedback == 'Aprovado':\n",
        "        '''#Pegar o arquivo com o mesmo nome do tema e edita-lo com outpu1'''\n",
        "\n",
        "\n",
        "\n",
        "  prompt = str(input('Input: '))\n",
        "\n",
        "\n",
        "\n",
        "\n",
        "\n",
        "\n",
        "\n",
        "\n",
        "\n"
      ]
    }
  ],
  "metadata": {
    "colab": {
      "provenance": [],
      "authorship_tag": "ABX9TyN+UcR+GNTaEoMOrWb5/36a",
      "include_colab_link": true
    },
    "kernelspec": {
      "display_name": "Python 3",
      "name": "python3"
    },
    "language_info": {
      "name": "python"
    }
  },
  "nbformat": 4,
  "nbformat_minor": 0
}