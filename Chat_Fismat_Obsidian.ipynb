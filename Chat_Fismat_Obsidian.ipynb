{
  "nbformat": 4,
  "nbformat_minor": 0,
  "metadata": {
    "colab": {
      "provenance": [],
      "authorship_tag": "ABX9TyOhqwVB5YUHOjgkhbxbMQPV",
      "include_colab_link": true
    },
    "kernelspec": {
      "name": "python3",
      "display_name": "Python 3"
    },
    "language_info": {
      "name": "python"
    }
  },
  "cells": [
    {
      "cell_type": "markdown",
      "metadata": {
        "id": "view-in-github",
        "colab_type": "text"
      },
      "source": [
        "<a href=\"https://colab.research.google.com/github/TheAcoff/chat-Fismat/blob/main/Chat_Fismat_Obsidian.ipynb\" target=\"_parent\"><img src=\"https://colab.research.google.com/assets/colab-badge.svg\" alt=\"Open In Colab\"/></a>"
      ]
    },
    {
      "cell_type": "markdown",
      "source": [
        "# Ferramenta de Auxílio em Estudos\n",
        "\n",
        "Para este código, iremos utilizar dois modelos diferentes. Um para a detecção de intenção do usuário, tendo como saída variáveis precisas que irão entrar em uma lista para serem input de um segundo modelo que terá os dados treinados para a Física Matemática.\n",
        "\n",
        "Para o modelo1, temos a saída:\n",
        "$$\n",
        "output1 = \\begin{pmatrix} intenção \\\\ tema \\\\ ordem \\end{pmatrix}  = input2\n",
        "$$\n",
        "\n",
        "\n"
      ],
      "metadata": {
        "id": "_UtdM3dzqbOX"
      }
    },
    {
      "cell_type": "code",
      "execution_count": 1,
      "metadata": {
        "id": "vseJp7Zxhjak"
      },
      "outputs": [],
      "source": [
        "import google.generativeai as genai\n",
        "\n",
        "#Configuração de API\n",
        "APIKey = 'APIKEY'\n",
        "genai.configure(api_key=APIKey)"
      ]
    },
    {
      "cell_type": "markdown",
      "source": [
        "# Definição de Parâmetros\n",
        "Nessa parte, definimos os parâmetros dos dois modelos. Seja $n$ o número do modelo, podendo ser $0$ ou $1$ para os parâmetros, então, definimos previamente: generation_config$\\,n$ , safety_settings$\\,n$"
      ],
      "metadata": {
        "id": "fS-tMIh82PJL"
      }
    },
    {
      "cell_type": "markdown",
      "source": [
        "## Parâmetros do Modelo 0"
      ],
      "metadata": {
        "id": "uXPXScvHBsm1"
      }
    },
    {
      "cell_type": "code",
      "source": [
        "generation_config0 = {\n",
        "  \"temperature\": 0.4,\n",
        "  \"top_p\": 0,\n",
        "  \"top_k\": 0,\n",
        "  \"max_output_tokens\": 2048\n",
        "}\n",
        "\n",
        "safety_settings0 = {\n",
        "    'HARASSMENT':'BLOCK_MEDIUM_AND_ABOVE',\n",
        "    'HATE':'BLOCK_MEDIUM_AND_ABOVE',\n",
        "    'SEXUAL':'BLOCK_MEDIUM_AND_ABOVE',\n",
        "    'DANGEROUS':'BLOCK_MEDIUM_AND_ABOVE',\n",
        "}"
      ],
      "metadata": {
        "id": "pEDQ2sqGBuIr"
      },
      "execution_count": 5,
      "outputs": []
    },
    {
      "cell_type": "markdown",
      "source": [
        "## Parâmetros do Modelo 1"
      ],
      "metadata": {
        "id": "sxj0tT7sBqaH"
      }
    },
    {
      "cell_type": "code",
      "source": [
        "generation_config1 = {\n",
        "  \"temperature\": 1,\n",
        "  \"top_p\": 0.95,\n",
        "  \"top_k\": 0,\n",
        "  \"max_output_tokens\": 12000\n",
        "}\n",
        "\n",
        "safety_settings1 = {\n",
        "    'HARASSMENT':'BLOCK_NONE',\n",
        "    'HATE':'BLOCK_NONE',\n",
        "    'SEXUAL':'BLOCK_NONE',\n",
        "    'DANGEROUS':'BLOCK_NONE',\n",
        "}"
      ],
      "metadata": {
        "id": "yGQqZHFOy45P"
      },
      "execution_count": 3,
      "outputs": []
    },
    {
      "cell_type": "markdown",
      "source": [
        "# Incializando os Modelos"
      ],
      "metadata": {
        "id": "0wqbyXI2Nh3O"
      }
    },
    {
      "cell_type": "code",
      "source": [
        "model0 = model = genai.GenerativeModel(\n",
        "    model_name='gemini-1.0-pro',\n",
        "    generation_config = generation_config0,\n",
        "    safety_settings = safety_settings0,\n",
        "    )\n",
        "\n",
        "#model1 = model = genai.GenerativeModel(\n",
        "#    model_name='gemini-1.5-pro-latest',\n",
        "#    generation_config = generation_config1,\n",
        "#    safety_settings = safety_settings1,\n",
        "#    )"
      ],
      "metadata": {
        "id": "SWaWusQYNktO"
      },
      "execution_count": 6,
      "outputs": []
    },
    {
      "cell_type": "code",
      "source": [
        "def string_para_lista(texto):\n",
        "  # Remove as chaves e divide a string em elementos usando a vírgula como separador\n",
        "  elementos = texto.strip(\"[]\").split(\",\")\n",
        "\n",
        "  elementos = [elemento for elemento in elementos]\n",
        "\n",
        "  return elementos\n"
      ],
      "metadata": {
        "id": "UXvSFAEj0Jof"
      },
      "execution_count": 38,
      "outputs": []
    },
    {
      "cell_type": "markdown",
      "source": [],
      "metadata": {
        "id": "SlUOnXIRRogd"
      }
    },
    {
      "cell_type": "code",
      "source": [
        "prompt = str(input('Input: '))\n",
        "\n",
        "chat0 = model0.start_chat(history=[\n",
        "  {\n",
        "    \"role\": \"user\",\n",
        "    \"parts\": [\"Aja como um identificador de intenção e ordem e me ajude a detectar o tema. \\nDevemos ter dois resultados possíveis de Intenção desejadas pelo usuário: Dúvida e Edição. \\nJá para ordem: Nenhuma, Resuma, Detalhe, Crie.\\nPara isso, responda no seguinte formato, como se fosse declarar uma matriz em Python, sem utilizar os espaços: [Intenção,Ordem,Tema] \\n---\\nExemplo1: Gostaria de saber mais sobre Inteligência Artificial \\n[Dúvida,Detalhe,Inteligência Artificial]\\nExemplo2: Me ajude com minhas notas sobre Redes Neurais \\n[Edição,Complemente,Redes Neurais] \\nExemplo3: Crie uma nota sobre Produto Interno\\n[Geração,Crie,Produto Interno]\\nExemplo4: Me explique sobre Espaço Vetorial. \\n[Dúvida,Nenhma,Espaço Vetorial] \\nExemplo 5: Fale mais sobre Jupiter e suas luas \\n[Dúvida,Detalhe,Luas de Júpiter] \\nExemplo 6: Resume sobre crateras da Terra \\n[Dúvida,Resuma,Crateras da Terra] \\nExemplo7: Resuma minhas notas sobre Teclado \\n[Edição,Resuma,Teclado]\"]\n",
        "  },\n",
        "  {\n",
        "    \"role\": \"model\",\n",
        "    \"parts\": [\"Ok, irei analisar as frases e fazer no modelo [Intenção,Ordem,Tema]\"]\n",
        "  }\n",
        "])\n",
        "\n",
        "while prompt != 'fim':\n",
        "  #Envia o prompt e converte a saída para uma matriz.\n",
        "  output0 = chat0.send_message(prompt)\n",
        "  output0M = string_para_lista(output0.text)\n",
        "\n",
        "  #Separa as variáveis da saída\n",
        "  Intencao = output0M[0]\n",
        "  Ordem = output0M[1]\n",
        "  Tema = output0M[2]\n",
        "  print(output0M)\n",
        "\n",
        "\n",
        "\n",
        "  prompt = str(input('Input: '))"
      ],
      "metadata": {
        "id": "jk0mZcXZUc1T"
      },
      "execution_count": null,
      "outputs": []
    }
  ]
}